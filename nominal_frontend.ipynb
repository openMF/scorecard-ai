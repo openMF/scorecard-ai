{
 "cells": [
  {
   "cell_type": "code",
   "execution_count": 40,
   "metadata": {},
   "outputs": [],
   "source": [
    "import numpy as np\n",
    "import pandas as pd\n",
    "from sklearn.model_selection import train_test_split\n",
    "from sklearn.linear_model import LinearRegression\n",
    "from sklearn.tree import DecisionTreeRegressor\n",
    "from sklearn.ensemble import RandomForestRegressor\n",
    "import pickle"
   ]
  },
  {
   "cell_type": "code",
   "execution_count": 34,
   "metadata": {},
   "outputs": [],
   "source": [
    "df_cleaned = pd.read_csv('temp.csv', sep='|')"
   ]
  },
  {
   "cell_type": "code",
   "execution_count": 35,
   "metadata": {},
   "outputs": [],
   "source": [
    "date_columns = [\n",
    "    'activation_date',\n",
    "    # 'office_joining_date',\n",
    "    'date_of_birth',\n",
    "    'approvedon_date',\n",
    "    'expected_disbursedon_date',\n",
    "    'disbursedon_date',\n",
    "    'expected_maturedon_date',\n",
    "    'maturedon_date',\n",
    "    'transaction_date',\n",
    "    'submitted_on_date'\n",
    "]\n",
    "numerical_columns = [\n",
    "    # 'has_email_address',\n",
    "    'gender_cv_id',\n",
    "    'legal_form_enum',\n",
    "    'interest_period_frequency_enum',\n",
    "    'interest_method_enum',\n",
    "    'interest_calculated_in_period_enum',\n",
    "    'term_frequency',\n",
    "    'number_of_repayments',\n",
    "    'transaction_type_enum',\n",
    "    # 'status_enum',\n",
    "    'principal_amount',\n",
    "    'nominal_interest_rate_per_period',\n",
    "    'annual_nominal_interest_rate',\n",
    "    'principal_repaid_derived',\n",
    "    'principal_outstanding_derived',\n",
    "    'interest_charged_derived',\n",
    "    'interest_repaid_derived',\n",
    "    'interest_outstanding_derived',\n",
    "    'total_repayment_derived',\n",
    "    'total_costofloan_derived',\n",
    "    'total_outstanding_derived',\n",
    "    'amount',\n",
    "    'principal_portion_derived',\n",
    "    'outstanding_loan_balance_derived'\n",
    "]\n",
    "other_columns_not_encoded = [\n",
    "    'has_mobile_no',\n",
    "    'validatedon_userid',\n",
    "    'loan_transaction_strategy_id',\n",
    "    'is_reversed',\n",
    "    'submittedon_date_client',\n",
    "    'submittedon_date_loan',\n",
    "    'validatedon_date',\n",
    "    'created_date',\n",
    "    'principal_amount_proposed',\n",
    "    'principal_disbursed_derived',\n",
    "    'total_expected_repayment_derived',\n",
    "    'total_expected_costofloan_derived',\n",
    "    'manually_adjusted_or_reversed',\n",
    "    'has_email_address',\n",
    "    'status_enum',\n",
    "    'office_joining_date'\n",
    "]"
   ]
  },
  {
   "cell_type": "code",
   "execution_count": 36,
   "metadata": {},
   "outputs": [
    {
     "name": "stdout",
     "output_type": "stream",
     "text": [
      "<class 'str'>\n",
      "2020-05-21\n"
     ]
    }
   ],
   "source": [
    "df_cleaned = df_cleaned.drop(columns=other_columns_not_encoded)\n",
    "print(type(df_cleaned['activation_date'][0]))\n",
    "print(df_cleaned['activation_date'][0])\n",
    "for col in date_columns:\n",
    "    df_cleaned[col] = pd.to_datetime(df_cleaned[col], errors='coerce')\n",
    "\n",
    "# Find the minimum date\n",
    "min_date = df_cleaned[date_columns].min().min()\n",
    "reference_date = pd.to_datetime(min_date)\n",
    "\n",
    "# Fill NaNs in date columns with reference date and convert to days since reference date\n",
    "for col in date_columns:\n",
    "    df_cleaned[col] = df_cleaned[col].fillna(reference_date)\n",
    "    df_cleaned[col] = (df_cleaned[col] - reference_date).dt.days\n",
    "\n",
    "# Convert specified columns to 'category' dtype\n",
    "df_encoded = df_cleaned.copy()"
   ]
  },
  {
   "cell_type": "code",
   "execution_count": 44,
   "metadata": {},
   "outputs": [
    {
     "name": "stdout",
     "output_type": "stream",
     "text": [
      "1924-02-17 00:00:00\n"
     ]
    }
   ],
   "source": [
    "print(reference_date)"
   ]
  },
  {
   "cell_type": "code",
   "execution_count": 37,
   "metadata": {},
   "outputs": [
    {
     "name": "stdout",
     "output_type": "stream",
     "text": [
      "Number of columns with missing values: 2\n",
      "Index(['birthplace_cv_id', 'principal_portion_derived'], dtype='object')\n",
      "(11566156, 30)\n"
     ]
    }
   ],
   "source": [
    "missing_values = df_encoded.isnull().mean() * 100\n",
    "missing_values = missing_values[missing_values > 0]\n",
    "print(f\"Number of columns with missing values: {len(missing_values)}\")\n",
    "#  name of columns with missing values\n",
    "print(missing_values.index)\n",
    "# remove columns with missing values\n",
    "df_encoded = df_encoded.drop(columns=missing_values.index)\n",
    "print(df_encoded.shape)"
   ]
  },
  {
   "cell_type": "code",
   "execution_count": 38,
   "metadata": {},
   "outputs": [
    {
     "ename": "KeyboardInterrupt",
     "evalue": "",
     "output_type": "error",
     "traceback": [
      "\u001b[1;31m---------------------------------------------------------------------------\u001b[0m",
      "\u001b[1;31mKeyboardInterrupt\u001b[0m                         Traceback (most recent call last)",
      "\u001b[1;32m~\\AppData\\Local\\Temp\\ipykernel_23560\\663623660.py\u001b[0m in \u001b[0;36m?\u001b[1;34m()\u001b[0m\n\u001b[0;32m      1\u001b[0m \u001b[1;31m# correlation matrix\u001b[0m\u001b[1;33m\u001b[0m\u001b[1;33m\u001b[0m\u001b[0m\n\u001b[1;32m----> 2\u001b[1;33m \u001b[0mcorrelation_matrix\u001b[0m \u001b[1;33m=\u001b[0m \u001b[0mdf_encoded\u001b[0m\u001b[1;33m.\u001b[0m\u001b[0mcorr\u001b[0m\u001b[1;33m(\u001b[0m\u001b[1;33m)\u001b[0m\u001b[1;33m\u001b[0m\u001b[1;33m\u001b[0m\u001b[0m\n\u001b[0m\u001b[0;32m      3\u001b[0m \u001b[1;31m# Select the top 10 features that are most correlated with the target variable\u001b[0m\u001b[1;33m\u001b[0m\u001b[1;33m\u001b[0m\u001b[0m\n\u001b[0;32m      4\u001b[0m \u001b[0mtarget_variable\u001b[0m \u001b[1;33m=\u001b[0m \u001b[1;34m'nominal_interest_rate_per_period'\u001b[0m\u001b[1;33m\u001b[0m\u001b[1;33m\u001b[0m\u001b[0m\n\u001b[0;32m      5\u001b[0m \u001b[0mtarget_correlation\u001b[0m \u001b[1;33m=\u001b[0m \u001b[0mcorrelation_matrix\u001b[0m\u001b[1;33m[\u001b[0m\u001b[0mtarget_variable\u001b[0m\u001b[1;33m]\u001b[0m\u001b[1;33m.\u001b[0m\u001b[0msort_values\u001b[0m\u001b[1;33m(\u001b[0m\u001b[0mascending\u001b[0m\u001b[1;33m=\u001b[0m\u001b[1;32mFalse\u001b[0m\u001b[1;33m)\u001b[0m\u001b[1;33m\u001b[0m\u001b[1;33m\u001b[0m\u001b[0m\n",
      "\u001b[1;32m~\\AppData\\Local\\Packages\\PythonSoftwareFoundation.Python.3.12_qbz5n2kfra8p0\\LocalCache\\local-packages\\Python312\\site-packages\\pandas\\core\\frame.py\u001b[0m in \u001b[0;36m?\u001b[1;34m(self, method, min_periods, numeric_only)\u001b[0m\n\u001b[0;32m  11048\u001b[0m         \u001b[0midx\u001b[0m \u001b[1;33m=\u001b[0m \u001b[0mcols\u001b[0m\u001b[1;33m.\u001b[0m\u001b[0mcopy\u001b[0m\u001b[1;33m(\u001b[0m\u001b[1;33m)\u001b[0m\u001b[1;33m\u001b[0m\u001b[1;33m\u001b[0m\u001b[0m\n\u001b[0;32m  11049\u001b[0m         \u001b[0mmat\u001b[0m \u001b[1;33m=\u001b[0m \u001b[0mdata\u001b[0m\u001b[1;33m.\u001b[0m\u001b[0mto_numpy\u001b[0m\u001b[1;33m(\u001b[0m\u001b[0mdtype\u001b[0m\u001b[1;33m=\u001b[0m\u001b[0mfloat\u001b[0m\u001b[1;33m,\u001b[0m \u001b[0mna_value\u001b[0m\u001b[1;33m=\u001b[0m\u001b[0mnp\u001b[0m\u001b[1;33m.\u001b[0m\u001b[0mnan\u001b[0m\u001b[1;33m,\u001b[0m \u001b[0mcopy\u001b[0m\u001b[1;33m=\u001b[0m\u001b[1;32mFalse\u001b[0m\u001b[1;33m)\u001b[0m\u001b[1;33m\u001b[0m\u001b[1;33m\u001b[0m\u001b[0m\n\u001b[0;32m  11050\u001b[0m \u001b[1;33m\u001b[0m\u001b[0m\n\u001b[0;32m  11051\u001b[0m         \u001b[1;32mif\u001b[0m \u001b[0mmethod\u001b[0m \u001b[1;33m==\u001b[0m \u001b[1;34m\"pearson\"\u001b[0m\u001b[1;33m:\u001b[0m\u001b[1;33m\u001b[0m\u001b[1;33m\u001b[0m\u001b[0m\n\u001b[1;32m> 11052\u001b[1;33m             \u001b[0mcorrel\u001b[0m \u001b[1;33m=\u001b[0m \u001b[0mlibalgos\u001b[0m\u001b[1;33m.\u001b[0m\u001b[0mnancorr\u001b[0m\u001b[1;33m(\u001b[0m\u001b[0mmat\u001b[0m\u001b[1;33m,\u001b[0m \u001b[0mminp\u001b[0m\u001b[1;33m=\u001b[0m\u001b[0mmin_periods\u001b[0m\u001b[1;33m)\u001b[0m\u001b[1;33m\u001b[0m\u001b[1;33m\u001b[0m\u001b[0m\n\u001b[0m\u001b[0;32m  11053\u001b[0m         \u001b[1;32melif\u001b[0m \u001b[0mmethod\u001b[0m \u001b[1;33m==\u001b[0m \u001b[1;34m\"spearman\"\u001b[0m\u001b[1;33m:\u001b[0m\u001b[1;33m\u001b[0m\u001b[1;33m\u001b[0m\u001b[0m\n\u001b[0;32m  11054\u001b[0m             \u001b[0mcorrel\u001b[0m \u001b[1;33m=\u001b[0m \u001b[0mlibalgos\u001b[0m\u001b[1;33m.\u001b[0m\u001b[0mnancorr_spearman\u001b[0m\u001b[1;33m(\u001b[0m\u001b[0mmat\u001b[0m\u001b[1;33m,\u001b[0m \u001b[0mminp\u001b[0m\u001b[1;33m=\u001b[0m\u001b[0mmin_periods\u001b[0m\u001b[1;33m)\u001b[0m\u001b[1;33m\u001b[0m\u001b[1;33m\u001b[0m\u001b[0m\n\u001b[0;32m  11055\u001b[0m         \u001b[1;32melif\u001b[0m \u001b[0mmethod\u001b[0m \u001b[1;33m==\u001b[0m \u001b[1;34m\"kendall\"\u001b[0m \u001b[1;32mor\u001b[0m \u001b[0mcallable\u001b[0m\u001b[1;33m(\u001b[0m\u001b[0mmethod\u001b[0m\u001b[1;33m)\u001b[0m\u001b[1;33m:\u001b[0m\u001b[1;33m\u001b[0m\u001b[1;33m\u001b[0m\u001b[0m\n",
      "\u001b[1;31mKeyboardInterrupt\u001b[0m: "
     ]
    }
   ],
   "source": [
    "# correlation matrix\n",
    "correlation_matrix = df_encoded.corr()\n",
    "# Select the top 10 features that are most correlated with the target variable\n",
    "target_variable = 'nominal_interest_rate_per_period'\n",
    "target_correlation = correlation_matrix[target_variable].sort_values(ascending=False)"
   ]
  },
  {
   "cell_type": "code",
   "execution_count": null,
   "metadata": {},
   "outputs": [
    {
     "name": "stdout",
     "output_type": "stream",
     "text": [
      "annual_nominal_interest_rate        1.000000\n",
      "interest_charged_derived            0.960448\n",
      "term_frequency                      0.953610\n",
      "number_of_repayments                0.953610\n",
      "principal_amount                    0.947943\n",
      "interest_period_frequency_enum      0.921416\n",
      "outstanding_loan_balance_derived    0.836472\n",
      "interest_outstanding_derived        0.757883\n",
      "expected_maturedon_date             0.713132\n",
      "total_outstanding_derived           0.712612\n",
      "Name: nominal_interest_rate_per_period, dtype: float64\n",
      "transaction_date                      0.065993\n",
      "gender_cv_id                          0.059735\n",
      "legal_form_enum                       0.059734\n",
      "transaction_type_enum                -0.031303\n",
      "interest_calculated_in_period_enum   -0.096650\n",
      "date_of_birth                        -0.110068\n",
      "expected_disbursedon_date            -0.157577\n",
      "approvedon_date                      -0.157577\n",
      "disbursedon_date                     -0.157578\n",
      "activation_date                      -0.290936\n",
      "Name: nominal_interest_rate_per_period, dtype: float64\n"
     ]
    }
   ],
   "source": [
    "top_10_correlated_features = target_correlation[1:11]\n",
    "print(top_10_correlated_features)\n",
    "bottom_10_correlated_features = target_correlation[-10:]\n",
    "print(bottom_10_correlated_features)\n"
   ]
  },
  {
   "cell_type": "code",
   "execution_count": null,
   "metadata": {},
   "outputs": [],
   "source": [
    "highly_corr_future_related = [\n",
    "    \"annual_nominal_interest_rate\",\n",
    "    \"number_of_repayments\",\n",
    "    \"term_frequency\",\n",
    "    \"total_costofloan_derived\",\n",
    "    \"total_repayment_derived\",\n",
    "    \"principal_repaid_derived\",\n",
    "    'principal_outstanding_derived', \n",
    "    'interest_charged_derived', \n",
    "    'interest_outstanding_derived', \n",
    "    'total_outstanding_derived', \n",
    "    'outstanding_loan_balance_derived',\n",
    "    'interest_repaid_derived',\n",
    "]\n"
   ]
  },
  {
   "cell_type": "code",
   "execution_count": null,
   "metadata": {},
   "outputs": [
    {
     "name": "stdout",
     "output_type": "stream",
     "text": [
      "(11566156, 18)\n"
     ]
    }
   ],
   "source": [
    "df_encoded = df_encoded.drop(columns=highly_corr_future_related)\n",
    "print(df_encoded.shape)"
   ]
  },
  {
   "cell_type": "code",
   "execution_count": null,
   "metadata": {},
   "outputs": [
    {
     "name": "stdout",
     "output_type": "stream",
     "text": [
      "Index(['activation_date', 'gender_cv_id', 'date_of_birth', 'legal_form_enum',\n",
      "       'principal_amount', 'nominal_interest_rate_per_period',\n",
      "       'interest_period_frequency_enum', 'interest_method_enum',\n",
      "       'interest_calculated_in_period_enum', 'approvedon_date',\n",
      "       'expected_disbursedon_date', 'disbursedon_date',\n",
      "       'expected_maturedon_date', 'maturedon_date', 'transaction_type_enum',\n",
      "       'transaction_date', 'amount', 'submitted_on_date'],\n",
      "      dtype='object')\n"
     ]
    }
   ],
   "source": [
    "print(df_encoded.columns)"
   ]
  },
  {
   "cell_type": "code",
   "execution_count": null,
   "metadata": {},
   "outputs": [],
   "source": [
    "X = df_encoded.drop('nominal_interest_rate_per_period', axis=1)\n",
    "y = df_encoded['nominal_interest_rate_per_period']"
   ]
  },
  {
   "cell_type": "code",
   "execution_count": null,
   "metadata": {},
   "outputs": [
    {
     "name": "stdout",
     "output_type": "stream",
     "text": [
      "activation_date                       35306.570183\n",
      "gender_cv_id                           2719.321740\n",
      "date_of_birth                         18133.860361\n",
      "legal_form_enum                           1.003603\n",
      "principal_amount                      15586.604141\n",
      "interest_period_frequency_enum            2.509243\n",
      "interest_method_enum                      0.970859\n",
      "interest_calculated_in_period_enum        0.029141\n",
      "approvedon_date                       35274.502584\n",
      "expected_disbursedon_date             35274.502589\n",
      "disbursedon_date                      35274.539349\n",
      "expected_maturedon_date               35957.505120\n",
      "maturedon_date                        35784.309945\n",
      "transaction_type_enum                     1.763809\n",
      "transaction_date                      35519.251317\n",
      "amount                                 4381.822410\n",
      "submitted_on_date                     36389.967922\n",
      "dtype: float64\n"
     ]
    }
   ],
   "source": [
    "# print average values of all columns of X\n",
    "print(X.mean())\n"
   ]
  },
  {
   "cell_type": "code",
   "execution_count": null,
   "metadata": {},
   "outputs": [],
   "source": [
    "X_train, X_test, y_train, y_test = train_test_split(X, y, test_size=0.2, stratify=y, random_state=42)"
   ]
  },
  {
   "cell_type": "code",
   "execution_count": null,
   "metadata": {},
   "outputs": [
    {
     "name": "stdout",
     "output_type": "stream",
     "text": [
      "Mean Squared Error: 0.17985214384094395\n"
     ]
    }
   ],
   "source": [
    "lr = LinearRegression()\n",
    "lr.fit(X_train, y_train)\n",
    "\n",
    "mse = np.mean((lr.predict(X_test) - y_test) ** 2)\n",
    "print(f\"Mean Squared Error: {mse}\")"
   ]
  },
  {
   "cell_type": "code",
   "execution_count": 41,
   "metadata": {},
   "outputs": [],
   "source": [
    "# Save the Linear Regression model\n",
    "with open('linear_regression_model_new.pkl', 'wb') as file:\n",
    "    pickle.dump(lr, file)"
   ]
  },
  {
   "cell_type": "code",
   "execution_count": null,
   "metadata": {},
   "outputs": [
    {
     "name": "stdout",
     "output_type": "stream",
     "text": [
      "Mean Squared Error: 1.9727518961721667e-20\n"
     ]
    }
   ],
   "source": [
    "# Decision Tree Regressor\n",
    "dt = DecisionTreeRegressor(random_state=42)\n",
    "dt.fit(X_train, y_train)\n",
    "\n",
    "mse = np.mean((dt.predict(X_test) - y_test) ** 2)\n",
    "print(f\"Mean Squared Error: {mse}\")"
   ]
  },
  {
   "cell_type": "code",
   "execution_count": 42,
   "metadata": {},
   "outputs": [],
   "source": [
    "# Save the Decision Tree model\n",
    "with open('decision_tree_regressor_model_new.pkl', 'wb') as file:\n",
    "    pickle.dump(dt, file)"
   ]
  },
  {
   "cell_type": "code",
   "execution_count": null,
   "metadata": {},
   "outputs": [
    {
     "name": "stdout",
     "output_type": "stream",
     "text": [
      "Mean Squared Error: 3.6220176069145966e-08\n"
     ]
    }
   ],
   "source": [
    "X_random = X_train.sample(frac=0.4, random_state=42)\n",
    "y_random = y_train[X_random.index]\n",
    "\n",
    "# Random Forest Regressor\n",
    "rf = RandomForestRegressor(random_state=42)\n",
    "rf.fit(X_random, y_random)\n",
    "\n",
    "mse = np.mean((rf.predict(X_test) - y_test) ** 2)\n",
    "print(f\"Mean Squared Error: {mse}\")"
   ]
  },
  {
   "cell_type": "code",
   "execution_count": 43,
   "metadata": {},
   "outputs": [],
   "source": [
    "# Save the Random Forest model\n",
    "with open('random_forest_regressor_model_new.pkl', 'wb') as file:\n",
    "    pickle.dump(rf, file)"
   ]
  }
 ],
 "metadata": {
  "kernelspec": {
   "display_name": "Python 3",
   "language": "python",
   "name": "python3"
  },
  "language_info": {
   "codemirror_mode": {
    "name": "ipython",
    "version": 3
   },
   "file_extension": ".py",
   "mimetype": "text/x-python",
   "name": "python",
   "nbconvert_exporter": "python",
   "pygments_lexer": "ipython3",
   "version": "3.12.5"
  }
 },
 "nbformat": 4,
 "nbformat_minor": 2
}
