{
 "cells": [
  {
   "cell_type": "code",
   "execution_count": null,
   "metadata": {},
   "outputs": [],
   "source": [
    "import numpy as np\n",
    "import pandas as pd\n",
    "from sklearn.model_selection import train_test_split\n",
    "from sklearn.linear_model import LinearRegression\n",
    "from sklearn.tree import DecisionTreeRegressor\n",
    "from sklearn.ensemble import RandomForestRegressor\n",
    "import pickle"
   ]
  },
  {
   "cell_type": "code",
   "execution_count": null,
   "metadata": {},
   "outputs": [],
   "source": [
    "df_cleaned = pd.read_csv('temp.csv', sep='|')"
   ]
  },
  {
   "cell_type": "code",
   "execution_count": null,
   "metadata": {},
   "outputs": [],
   "source": [
    "date_columns = [\n",
    "    'activation_date',\n",
    "    # 'office_joining_date',\n",
    "    'date_of_birth',\n",
    "    'approvedon_date',\n",
    "    'expected_disbursedon_date',\n",
    "    'disbursedon_date',\n",
    "    'expected_maturedon_date',\n",
    "    'maturedon_date',\n",
    "    'transaction_date',\n",
    "    'submitted_on_date'\n",
    "]\n",
    "numerical_columns = [\n",
    "    # 'has_email_address',\n",
    "    'gender_cv_id',\n",
    "    'legal_form_enum',\n",
    "    'interest_period_frequency_enum',\n",
    "    'interest_method_enum',\n",
    "    'interest_calculated_in_period_enum',\n",
    "    'term_frequency',\n",
    "    'number_of_repayments',\n",
    "    'transaction_type_enum',\n",
    "    # 'status_enum',\n",
    "    'principal_amount',\n",
    "    'nominal_interest_rate_per_period',\n",
    "    'annual_nominal_interest_rate',\n",
    "    'principal_repaid_derived',\n",
    "    'principal_outstanding_derived',\n",
    "    'interest_charged_derived',\n",
    "    'interest_repaid_derived',\n",
    "    'interest_outstanding_derived',\n",
    "    'total_repayment_derived',\n",
    "    'total_costofloan_derived',\n",
    "    'total_outstanding_derived',\n",
    "    'amount',\n",
    "    'principal_portion_derived',\n",
    "    'outstanding_loan_balance_derived'\n",
    "]\n",
    "other_columns_not_encoded = [\n",
    "    'has_mobile_no',\n",
    "    'validatedon_userid',\n",
    "    'loan_transaction_strategy_id',\n",
    "    'is_reversed',\n",
    "    'submittedon_date_client',\n",
    "    'submittedon_date_loan',\n",
    "    'validatedon_date',\n",
    "    'created_date',\n",
    "    'principal_amount_proposed',\n",
    "    'principal_disbursed_derived',\n",
    "    'total_expected_repayment_derived',\n",
    "    'total_expected_costofloan_derived',\n",
    "    'manually_adjusted_or_reversed',\n",
    "    'has_email_address',\n",
    "    'status_enum',\n",
    "    'office_joining_date'\n",
    "]"
   ]
  },
  {
   "cell_type": "code",
   "execution_count": null,
   "metadata": {},
   "outputs": [],
   "source": [
    "df_cleaned = df_cleaned.drop(columns=other_columns_not_encoded)\n",
    "print(type(df_cleaned['activation_date'][0]))\n",
    "print(df_cleaned['activation_date'][0])\n",
    "for col in date_columns:\n",
    "    df_cleaned[col] = pd.to_datetime(df_cleaned[col], errors='coerce')\n",
    "\n",
    "# Find the minimum date\n",
    "min_date = df_cleaned[date_columns].min().min()\n",
    "reference_date = pd.to_datetime(min_date)\n",
    "\n",
    "# Fill NaNs in date columns with reference date and convert to days since reference date\n",
    "for col in date_columns:\n",
    "    df_cleaned[col] = df_cleaned[col].fillna(reference_date)\n",
    "    df_cleaned[col] = (df_cleaned[col] - reference_date).dt.days\n",
    "\n",
    "# Convert specified columns to 'category' dtype\n",
    "df_encoded = df_cleaned.copy()"
   ]
  },
  {
   "cell_type": "code",
   "execution_count": null,
   "metadata": {},
   "outputs": [],
   "source": [
    "print(reference_date)"
   ]
  },
  {
   "cell_type": "code",
   "execution_count": null,
   "metadata": {},
   "outputs": [],
   "source": [
    "missing_values = df_encoded.isnull().mean() * 100\n",
    "missing_values = missing_values[missing_values > 0]\n",
    "print(f\"Number of columns with missing values: {len(missing_values)}\")\n",
    "#  name of columns with missing values\n",
    "print(missing_values.index)\n",
    "# remove columns with missing values\n",
    "df_encoded = df_encoded.drop(columns=missing_values.index)\n",
    "print(df_encoded.shape)"
   ]
  },
  {
   "cell_type": "code",
   "execution_count": null,
   "metadata": {},
   "outputs": [],
   "source": [
    "# correlation matrix\n",
    "correlation_matrix = df_encoded.corr()\n",
    "# Select the top 10 features that are most correlated with the target variable\n",
    "target_variable = 'nominal_interest_rate_per_period'\n",
    "target_correlation = correlation_matrix[target_variable].sort_values(ascending=False)"
   ]
  },
  {
   "cell_type": "code",
   "execution_count": null,
   "metadata": {},
   "outputs": [],
   "source": [
    "top_10_correlated_features = target_correlation[1:11]\n",
    "print(top_10_correlated_features)\n",
    "bottom_10_correlated_features = target_correlation[-10:]\n",
    "print(bottom_10_correlated_features)\n"
   ]
  },
  {
   "cell_type": "code",
   "execution_count": null,
   "metadata": {},
   "outputs": [],
   "source": [
    "highly_corr_future_related = [\n",
    "    \"annual_nominal_interest_rate\",\n",
    "    \"number_of_repayments\",\n",
    "    \"term_frequency\",\n",
    "    \"total_costofloan_derived\",\n",
    "    \"total_repayment_derived\",\n",
    "    \"principal_repaid_derived\",\n",
    "    'principal_outstanding_derived', \n",
    "    'interest_charged_derived', \n",
    "    'interest_outstanding_derived', \n",
    "    'total_outstanding_derived', \n",
    "    'outstanding_loan_balance_derived',\n",
    "    'interest_repaid_derived',\n",
    "]\n"
   ]
  },
  {
   "cell_type": "code",
   "execution_count": null,
   "metadata": {},
   "outputs": [],
   "source": [
    "df_encoded = df_encoded.drop(columns=highly_corr_future_related)\n",
    "print(df_encoded.shape)"
   ]
  },
  {
   "cell_type": "code",
   "execution_count": null,
   "metadata": {},
   "outputs": [],
   "source": [
    "print(df_encoded.columns)"
   ]
  },
  {
   "cell_type": "code",
   "execution_count": null,
   "metadata": {},
   "outputs": [],
   "source": [
    "X = df_encoded.drop('nominal_interest_rate_per_period', axis=1)\n",
    "y = df_encoded['nominal_interest_rate_per_period']"
   ]
  },
  {
   "cell_type": "code",
   "execution_count": null,
   "metadata": {},
   "outputs": [],
   "source": [
    "# print average values of all columns of X\n",
    "print(X.mean())\n"
   ]
  },
  {
   "cell_type": "code",
   "execution_count": null,
   "metadata": {},
   "outputs": [],
   "source": [
    "X_train, X_test, y_train, y_test = train_test_split(X, y, test_size=0.2, stratify=y, random_state=42)"
   ]
  },
  {
   "cell_type": "code",
   "execution_count": null,
   "metadata": {},
   "outputs": [],
   "source": [
    "lr = LinearRegression()\n",
    "lr.fit(X_train, y_train)\n",
    "\n",
    "mse = np.mean((lr.predict(X_test) - y_test) ** 2)\n",
    "print(f\"Mean Squared Error: {mse}\")"
   ]
  },
  {
   "cell_type": "code",
   "execution_count": null,
   "metadata": {},
   "outputs": [],
   "source": [
    "# Save the Linear Regression model\n",
    "with open('linear_regression_model_new.pkl', 'wb') as file:\n",
    "    pickle.dump(lr, file)"
   ]
  },
  {
   "cell_type": "code",
   "execution_count": null,
   "metadata": {},
   "outputs": [],
   "source": [
    "# Decision Tree Regressor\n",
    "dt = DecisionTreeRegressor(random_state=42)\n",
    "dt.fit(X_train, y_train)\n",
    "\n",
    "mse = np.mean((dt.predict(X_test) - y_test) ** 2)\n",
    "print(f\"Mean Squared Error: {mse}\")"
   ]
  },
  {
   "cell_type": "code",
   "execution_count": null,
   "metadata": {},
   "outputs": [],
   "source": [
    "# Save the Decision Tree model\n",
    "with open('decision_tree_regressor_model_new.pkl', 'wb') as file:\n",
    "    pickle.dump(dt, file)"
   ]
  },
  {
   "cell_type": "code",
   "execution_count": null,
   "metadata": {},
   "outputs": [],
   "source": [
    "X_random = X_train.sample(frac=0.4, random_state=42)\n",
    "y_random = y_train[X_random.index]\n",
    "\n",
    "# Random Forest Regressor\n",
    "rf = RandomForestRegressor(random_state=42)\n",
    "rf.fit(X_random, y_random)\n",
    "\n",
    "mse = np.mean((rf.predict(X_test) - y_test) ** 2)\n",
    "print(f\"Mean Squared Error: {mse}\")"
   ]
  },
  {
   "cell_type": "code",
   "execution_count": null,
   "metadata": {},
   "outputs": [],
   "source": [
    "# Save the Random Forest model\n",
    "with open('random_forest_regressor_model_new.pkl', 'wb') as file:\n",
    "    pickle.dump(rf, file)"
   ]
  }
 ],
 "metadata": {
  "kernelspec": {
   "display_name": "Python 3",
   "language": "python",
   "name": "python3"
  },
  "language_info": {
   "codemirror_mode": {
    "name": "ipython",
    "version": 3
   },
   "file_extension": ".py",
   "mimetype": "text/x-python",
   "name": "python",
   "nbconvert_exporter": "python",
   "pygments_lexer": "ipython3",
   "version": "3.12.5"
  }
 },
 "nbformat": 4,
 "nbformat_minor": 2
}
